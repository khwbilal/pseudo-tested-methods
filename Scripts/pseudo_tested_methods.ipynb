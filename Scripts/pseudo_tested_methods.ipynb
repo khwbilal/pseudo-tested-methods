{
 "cells": [
  {
   "cell_type": "markdown",
   "metadata": {},
   "source": [
    "# Pseudo-tested methods in real life projects\n",
    "\n",
    "This notebook shows the results of finding pseudo-tested methods in a set of real life Java projects.\n",
    "\n",
    "First we import all the dependencies."
   ]
  },
  {
   "cell_type": "code",
   "execution_count": 1,
   "metadata": {},
   "outputs": [],
   "source": [
    "%matplotlib inline\n",
    "import matplotlib.pyplot as plt\n",
    "from tables import IPythonTableBuilder\n",
    "from projects import Project\n",
    "from pseudo_tested_methods import Record, show_rates_table"
   ]
  },
  {
   "cell_type": "markdown",
   "metadata": {},
   "source": [
    "Then, we load the data obtained after executing the analysis of Descartes."
   ]
  },
  {
   "cell_type": "code",
   "execution_count": 2,
   "metadata": {},
   "outputs": [],
   "source": [
    "records = [Record(project) for project in Project.available_projects()]"
   ]
  },
  {
   "cell_type": "markdown",
   "metadata": {},
   "source": [
    "The following table shows, for each project,\n",
    "The **Under Analysis** row, shows the number of methods in the project that are targeted by Descartes when looking for pseudo-tested methods. This set of methods exludes any stop methods. **Pseudo-tested** shows the number of such methods found for each project,**partially-tested** show number of partially-tested psudo methods and **Ratio pseudo-test** shows the ratio of **Pseudo-tested** to **Under Analysis** and **Ratio Partially and pseudo-test** shows the ratio of **Pseudo-tested**+**partially-tested** to **Under Analysis**.\n",
    "It is interesting to notice that all projects contained pseudo-tested methods."
   ]
  },
  {
   "cell_type": "code",
   "execution_count": 3,
   "metadata": {
    "scrolled": true
   },
   "outputs": [
    {
     "data": {
      "text/html": [
       "<table><tr><th>Project</th><th style=\"text-align:right\">Under Analysis</th><th style=\"text-align:right\">Pseudo-tested</th><th style=\"text-align:right\">partially-tested</th><th style=\"text-align:right\">Not-covered</th><th style=\"text-align:right\">Ratio Partially and pseudo-test</th><th style=\"text-align:right\">Ratio pseudo-test</th></tr><tr><td>AuthZForce PDP Core</td><td>423</td><td>11</td><td>8</td><td>338</td><td>4%</td><td>3%</td></tr><tr><td>Apache Commons CLI</td><td>137</td><td>1</td><td>2</td><td>6</td><td>2%</td><td>1%</td></tr><tr><td>Apache Commons Codec</td><td>559</td><td>9</td><td>16</td><td>19</td><td>4%</td><td>2%</td></tr><tr><td>Apache Commons Collections</td><td>2663</td><td>74</td><td>22</td><td>1316</td><td>4%</td><td>3%</td></tr><tr><td>Apache Commons IO</td><td>1065</td><td>33</td><td>12</td><td>56</td><td>4%</td><td>3%</td></tr><tr><td>Apache Commons Lang</td><td>2387</td><td>30</td><td>45</td><td>47</td><td>3%</td><td>1%</td></tr><tr><td>Apache Flink</td><td>3659</td><td>84</td><td>104</td><td>1449</td><td>5%</td><td>2%</td></tr><tr><td>Google Gson</td><td>575</td><td>6</td><td>11</td><td>57</td><td>3%</td><td>1%</td></tr><tr><td>Jaxen XPath Engine</td><td>31</td><td>0</td><td>0</td><td>31</td><td>0%</td><td>0%</td></tr><tr><td>JFreeChart</td><td>4704</td><td>412</td><td>83</td><td>1520</td><td>11%</td><td>9%</td></tr><tr><td>Joda-Time</td><td>2629</td><td>0</td><td>0</td><td>2629</td><td>0%</td><td>0%</td></tr><tr><td>JOpt Simple</td><td>236</td><td>2</td><td>1</td><td>4</td><td>1%</td><td>1%</td></tr><tr><td>jsoup</td><td>1062</td><td>6</td><td>12</td><td>76</td><td>2%</td><td>1%</td></tr><tr><td>SCIFIO</td><td>1804</td><td>0</td><td>0</td><td>1804</td><td>0%</td><td>0%</td></tr><tr><td>Urban Airship Client Library</td><td>2246</td><td>62</td><td>106</td><td>389</td><td>7%</td><td>3%</td></tr><tr><td>XWiki Rendering Engine</td><td>862</td><td>5</td><td>6</td><td>333</td><td>1%</td><td>1%</td></tr></table>"
      ],
      "text/plain": [
       "<IPython.core.display.HTML object>"
      ]
     },
     "metadata": {},
     "output_type": "display_data"
    }
   ],
   "source": [
    "show_rates_table(records, build_table=IPythonTableBuilder)"
   ]
  },
  {
   "cell_type": "code",
   "execution_count": null,
   "metadata": {},
   "outputs": [],
   "source": []
  }
 ],
 "metadata": {
  "kernelspec": {
   "display_name": "Python 3 (ipykernel)",
   "language": "python",
   "name": "python3"
  },
  "language_info": {
   "codemirror_mode": {
    "name": "ipython",
    "version": 3
   },
   "file_extension": ".py",
   "mimetype": "text/x-python",
   "name": "python",
   "nbconvert_exporter": "python",
   "pygments_lexer": "ipython3",
   "version": "3.9.7"
  }
 },
 "nbformat": 4,
 "nbformat_minor": 2
}
